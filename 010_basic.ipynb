{
 "cells": [
  {
   "cell_type": "code",
   "execution_count": 6,
   "metadata": {
    "tags": []
   },
   "outputs": [],
   "source": [
    "%load_ext pycodestyle_magic\n",
    "%pycodestyle_on\n",
    "#%flake8_on"
   ]
  },
  {
   "cell_type": "markdown",
   "metadata": {},
   "source": [
    "# Race condition in Python\n",
    "\n",
    "Incrementing a simple value in one single Thread is easy an produces no errors. \n",
    "As soon as you have multiple Threads working with a shared variable, problems can arise. **Race conditions** can occure, this means the value of the shared variable is modified in an erronous way.\n",
    "\n",
    "Let's have a look at the following example. There is a class `Counter` with a method `increment`. This method does nothing else than incrementing the value by 1.\n",
    "Multiple threads (here two) share an instance of the object `Counter` and invoke the `increment` method. Both threads do this one million times. Thus the final value of the counter should be 2 millions.\n",
    "\n",
    "***But after execution you will see that this is not the case*** Why?"
   ]
  },
  {
   "cell_type": "code",
   "execution_count": 2,
   "metadata": {
    "tags": []
   },
   "outputs": [
    {
     "output_type": "stream",
     "name": "stdout",
     "text": "1698294\n"
    }
   ],
   "source": [
    "from threading import Thread\n",
    "\n",
    "\n",
    "class Counter(object):\n",
    "    def __init__(self):\n",
    "        self.value = 0\n",
    "\n",
    "    def increment(self):\n",
    "        self.value += 1\n",
    "\n",
    "\n",
    "c = Counter()\n",
    "\n",
    "\n",
    "def go():\n",
    "    for i in range(1000000):\n",
    "        c.increment()\n",
    "\n",
    "\n",
    "# Run two threads that increment the counter:\n",
    "t1 = Thread(target=go)\n",
    "t1.start()\n",
    "t2 = Thread(target=go)\n",
    "t2.start()\n",
    "t1.join()\n",
    "t2.join()\n",
    "print(c.value)"
   ]
  },
  {
   "cell_type": "markdown",
   "metadata": {},
   "source": [
    "## The race condition problem\n",
    "\n",
    "We incremented 2,000,000 times, but that’s not what we got. The problem is that self.value += 1 actually takes three distinct steps:\n",
    "\n",
    "1. Getting the attribute,\n",
    "2. incrementing it,\n",
    "3. then setting the attribute.\n",
    "\n",
    "If two threads call `increment()` on the same object around the same time, the following series steps may happen:\n",
    "\n",
    "```\n",
    "Thread 1: Get self.value, which happens to be 13.\n",
    "Thread 2: Get self.value, which happens to be 13.\n",
    "Thread 1: Increment 13 to 14.\n",
    "Thread 1: Set self.value to 14.\n",
    "Thread 2: Increment 13 to 14.\n",
    "Thread 1: Set self.value to 14.\n",
    "```\n",
    "An increment was lost due to a race condition.\n",
    "\n",
    "We could use LOCKS... but this will be seen later\n"
   ]
  },
  {
   "cell_type": "markdown",
   "metadata": {},
   "source": [
    "### Race condition with simple Integer variable\n",
    "In this example we see that only and increment operation is executed multiple times on `Integer` variable.\n",
    "\n",
    "If the code is executed with a little number of threads (e.g. 4) no problem happens. The final value is correct. But as soon as we increas the number of *sessions* (or loops) the end value gets buggy. This, because the Python interpreter and also the OS can interrupt the current thread and give the CPU to another thread. Unfortunatelly, this context-switch can happen in the middle of the `x += 1` instruction, which translates into: `LOAD x, INC x, STORE x`"
   ]
  },
  {
   "cell_type": "code",
   "execution_count": 9,
   "metadata": {
    "tags": []
   },
   "outputs": [
    {
     "output_type": "stream",
     "name": "stdout",
     "text": "837799\n"
    }
   ],
   "source": [
    "from threading import Thread\n",
    "\n",
    "S = 4       # number of \"sessions\"\n",
    "S = 400000  # number of \"sessions\"\n",
    "N = 6       # the number of threads\n",
    "x = 0       # shared ressource\n",
    "\n",
    "\n",
    "def my_process():\n",
    "    for i in range(S):\n",
    "        global x\n",
    "        # print(\"Session \", i)\n",
    "\n",
    "        # non-critical section\n",
    "        # ...\n",
    "        # entry protocol\n",
    "        # critical section\n",
    "        x += 1\n",
    "        # exit protocol\n",
    "\n",
    "\n",
    "threads = []\n",
    "for j in range(N):\n",
    "    thread = Thread(target=my_process)\n",
    "    threads.append(thread)\n",
    "    thread.start()\n",
    "\n",
    "for thread in threads:  # iterates over the threads\n",
    "    thread.join()       # waits until the thread has finished work\n",
    "\n",
    "print(x)"
   ]
  },
  {
   "cell_type": "markdown",
   "metadata": {},
   "source": [
    "### Critical section protected by a LOCK\n"
   ]
  },
  {
   "cell_type": "code",
   "execution_count": 3,
   "metadata": {
    "tags": []
   },
   "outputs": [
    {
     "output_type": "stream",
     "name": "stdout",
     "text": "2000000\n"
    }
   ],
   "source": [
    "from threading import Thread\n",
    "from threading import Lock\n",
    "\n",
    "\n",
    "class Counter(object):\n",
    "    def __init__(self):\n",
    "        self.value = 0\n",
    "        self.lock = Lock()\n",
    "\n",
    "    def increment(self):\n",
    "        with self.lock:\n",
    "            self.value += 1\n",
    "\n",
    "\n",
    "c = Counter()\n",
    "\n",
    "\n",
    "def go():\n",
    "    for i in range(1000000):\n",
    "        c.increment()\n",
    "\n",
    "\n",
    "# Run two threads that increment the counter:\n",
    "t1 = Thread(target=go)\n",
    "t1.start()\n",
    "t2 = Thread(target=go)\n",
    "t2.start()\n",
    "t1.join()\n",
    "t2.join()\n",
    "print(c.value)"
   ]
  }
 ],
 "metadata": {
  "kernelspec": {
   "display_name": "Python 3",
   "language": "python",
   "name": "python3"
  },
  "language_info": {
   "codemirror_mode": {
    "name": "ipython",
    "version": 3
   },
   "file_extension": ".py",
   "mimetype": "text/x-python",
   "name": "python",
   "nbconvert_exporter": "python",
   "pygments_lexer": "ipython3",
   "version": "3.8.5-final"
  }
 },
 "nbformat": 4,
 "nbformat_minor": 4
}