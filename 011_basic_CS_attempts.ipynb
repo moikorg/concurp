{
 "cells": [
  {
   "cell_type": "code",
   "execution_count": 1,
   "metadata": {
    "tags": []
   },
   "outputs": [],
   "source": [
    "%load_ext pycodestyle_magic\n",
    "%pycodestyle_on\n",
    "#%flake8_on"
   ]
  },
  {
   "cell_type": "markdown",
   "metadata": {},
   "source": [
    "## Critical section\n",
    "The following code snippets show tries to cope with the critical section (CS)\n",
    "### Attempt #1\n",
    "*see JR book p. 46*\n",
    " "
   ]
  },
  {
   "cell_type": "code",
   "execution_count": 2,
   "metadata": {
    "tags": []
   },
   "outputs": [
    {
     "output_type": "stream",
     "name": "stdout",
     "text": "P1 started \nP1(0) started \nP1(0) outside CS \nP1(0) in CS \nP1(1) started \nP1(1) outside CS \nP2 started \nP2(0) started \nP2(0) outside CS \nP2(0) in CS \nP2(1) started \nP2(1) outside CS \nP1(1) in CS \nP1(2) started \nP1(2) outside CS \nP2(1) in CS \nP2(2) started \nP2(2) outside CS \nP1(2) in CS \nP2(2) in CS \n18\n"
    }
   ],
   "source": [
    "from threading import Thread\n",
    "\n",
    "\n",
    "x = 0       # shared ressource\n",
    "turn = 0    # who is in CS ?\n",
    "N = 3       # number of iterations\n",
    "\n",
    "\n",
    "def process1():\n",
    "    global turn, x\n",
    "    print(\"P1 started \")\n",
    "    for j in range(N):\n",
    "        print(f\"P1({j}) started \")\n",
    "        # non-critical section\n",
    "        print(f\"P1({j}) outside CS \")\n",
    "        # entry protocol\n",
    "        while(turn != 0):\n",
    "            pass  # does nothing\n",
    "        # critical section\n",
    "        print(f\"P1({j}) in CS \")\n",
    "        x += 3\n",
    "        # exit protocol\n",
    "        turn = 1\n",
    "\n",
    "\n",
    "def process2():\n",
    "    global turn, x\n",
    "    print(\"P2 started \")\n",
    "    for j in range(N):\n",
    "        print(f\"P2({j}) started \")\n",
    "        # non-critical section\n",
    "        print(f\"P2({j}) outside CS \")\n",
    "        # entry protocol\n",
    "        while (turn != 1):\n",
    "            pass  # does nothing\n",
    "        # critical section\n",
    "        print(f\"P2({j}) in CS \")\n",
    "        x += 3\n",
    "        # exit protocol\n",
    "        turn = 0\n",
    "\n",
    "\n",
    "# start the threads\n",
    "threads = []\n",
    "threads.append(Thread(target=process1))\n",
    "threads.append(Thread(target=process2))\n",
    "threads[0].start()\n",
    "threads[1].start()\n",
    "\n",
    "# wait until all processes have finished\n",
    "for thread in threads:\n",
    "    thread.join()\n",
    "\n",
    "print(x)"
   ]
  },
  {
   "cell_type": "markdown",
   "metadata": {},
   "source": [
    "| | | |\n",
    "|-|--------|-|\n",
    "| mutual exclusion | OK | turn can't be 1 and 2 at the same time |\n",
    "| absence of dead/livelock | OK | if turn can be set to something else than 1 or 2 (e.g. hacker, buggy program, wrong initialization) |\n",
    "| unnecessary delay | NOK | e.g. if turn=1 and P2 is waiting for a user input in the non-critical zone, then P1 must wait unnecessary to enter its CS |\n",
    "| fairness | OK | both CS alternate always |\n",
    "\n"
   ]
  },
  {
   "cell_type": "markdown",
   "metadata": {
    "tags": []
   },
   "source": [
    "### Attempt #2"
   ]
  },
  {
   "cell_type": "code",
   "execution_count": 7,
   "metadata": {
    "tags": []
   },
   "outputs": [
    {
     "output_type": "stream",
     "name": "stdout",
     "text": "P1 started P2 started \nP1(0) started \nP1(0) outside CS \nP2(0) started \nP2(0) outside CS \nP2(0) in CS \nP2(1) started \nP2(1) outside CS \nP2(1) in CS \nP2(2) started \nP2(2) outside CS \nP2(2) in CS \n\nP1(0) in CS \nP1(1) started \nP1(1) outside CS \nP1(1) in CS \nP1(2) started \nP1(2) outside CS \nP1(2) in CS \n18\n"
    }
   ],
   "source": [
    "from threading import Thread\n",
    "\n",
    "\n",
    "x = 0       # shared ressource\n",
    "N = 3       # number of iterations\n",
    "\n",
    "c1 = False      # process1 sets to 1 in CS\n",
    "c2 = False      # process2 sets to 1 in CS\n",
    "\n",
    "\n",
    "def process1():\n",
    "    global c1, c2, x\n",
    "    print(\"P1 started \")\n",
    "    for j in range(N):\n",
    "        print(f\"P1({j}) started \")\n",
    "        # non-critical section\n",
    "        print(f\"P1({j}) outside CS \")\n",
    "        # entry protocol\n",
    "        while (c2):     #while(c2 == True):\n",
    "            pass  # does nothing\n",
    "        c1 = True\n",
    "        # critical section\n",
    "        print(f\"P1({j}) in CS \")\n",
    "        x += 3\n",
    "        # exit protocol\n",
    "        c1 = False\n",
    "\n",
    "\n",
    "def process2():\n",
    "    global c1, c2, x\n",
    "    print(\"P2 started \")\n",
    "    for j in range(N):\n",
    "        print(f\"P2({j}) started \")\n",
    "        # non-critical section\n",
    "        print(f\"P2({j}) outside CS \")\n",
    "        # entry protocol\n",
    "        while (c1):     # while (c1 == True):\n",
    "            pass  # does nothing\n",
    "        c2 = True\n",
    "        # critical section\n",
    "        print(f\"P2({j}) in CS \")\n",
    "        x += 3\n",
    "        # exit protocol\n",
    "        c2 = False\n",
    "\n",
    "\n",
    "# start the threads\n",
    "threads = []\n",
    "threads.append(Thread(target=process1))\n",
    "threads.append(Thread(target=process2))\n",
    "threads[0].start()\n",
    "threads[1].start()\n",
    "\n",
    "# wait until all processes have finished\n",
    "for thread in threads:\n",
    "    thread.join()\n",
    "\n",
    "print(x)"
   ]
  },
  {
   "cell_type": "markdown",
   "metadata": {},
   "source": [
    "### Attempt #3"
   ]
  },
  {
   "cell_type": "code",
   "execution_count": 11,
   "metadata": {
    "tags": []
   },
   "outputs": [
    {
     "output_type": "stream",
     "name": "stdout",
     "text": "P1 started \nP1(0) started \nP1(0) outside CS \nP1(0) in CS \nP1(1) started \nP1(1) outside CS \nP1(1) in CS \nP1(2) started \nP1(2) outside CS \nP1(2) in CS \nP2 started \nP2(0) started \nP2(0) outside CS \nP2(0) in CS \nP2(1) started \nP2(1) outside CS \nP2(1) in CS \nP2(2) started \nP2(2) outside CS \nP2(2) in CS \n18\n"
    }
   ],
   "source": [
    "from threading import Thread\n",
    "\n",
    "\n",
    "x = 0       # shared ressource\n",
    "N = 3       # number of iterations\n",
    "\n",
    "c1 = False      # process1 sets to 1 in CS\n",
    "c2 = False      # process2 sets to 1 in CS\n",
    "\n",
    "\n",
    "def process1():\n",
    "    global c1, c2, x\n",
    "    print(\"P1 started \")\n",
    "    for j in range(N):\n",
    "        print(f\"P1({j}) started \")\n",
    "        # non-critical section\n",
    "        print(f\"P1({j}) outside CS \")\n",
    "        # entry protocol\n",
    "        c1 = True\n",
    "        while (c2): pass  # while c2 == True wait\n",
    "        # critical section\n",
    "        print(f\"P1({j}) in CS \")\n",
    "        x += 3\n",
    "        # exit protocol\n",
    "        c1 = False\n",
    "\n",
    "\n",
    "def process2():\n",
    "    global c1, c2, x\n",
    "    print(\"P2 started \")\n",
    "    for j in range(N):\n",
    "        print(f\"P2({j}) started \")\n",
    "        # non-critical section\n",
    "        print(f\"P2({j}) outside CS \")\n",
    "        # entry protocol\n",
    "        c2 = True\n",
    "        while (c1): pass  # while c1 == True wait\n",
    "        # critical section\n",
    "        print(f\"P2({j}) in CS \")\n",
    "        x += 3\n",
    "        # exit protocol\n",
    "        c2 = False\n",
    "\n",
    "\n",
    "# start the threads\n",
    "threads = []\n",
    "threads.append(Thread(target=process1))\n",
    "threads.append(Thread(target=process2))\n",
    "threads[0].start()\n",
    "threads[1].start()\n",
    "\n",
    "# wait until all processes have finished\n",
    "for thread in threads:\n",
    "    thread.join()\n",
    "\n",
    "print(x)"
   ]
  },
  {
   "cell_type": "markdown",
   "metadata": {},
   "source": [
    "### Attempt #4"
   ]
  },
  {
   "cell_type": "code",
   "execution_count": 12,
   "metadata": {
    "tags": []
   },
   "outputs": [
    {
     "output_type": "stream",
     "name": "stdout",
     "text": "P1 started \nP1(0) started \nP1(0) outside CS \nP1(0) in CS \nP1(1) started \nP1(1) outside CS \nP1(1) in CS \nP1(2) started \nP1(2) outside CS \nP1(2) in CS \nP2 started \nP2(0) started \nP2(0) outside CS \nP2(0) in CS \nP2(1) started \nP2(1) outside CS \nP2(1) in CS \nP2(2) started \nP2(2) outside CS \nP2(2) in CS \n18\n"
    }
   ],
   "source": [
    "from threading import Thread\n",
    "\n",
    "\n",
    "x = 0       # shared ressource\n",
    "N = 3       # number of iterations\n",
    "\n",
    "c1 = False      # process1 sets to 1 in CS\n",
    "c2 = False      # process2 sets to 1 in CS\n",
    "\n",
    "\n",
    "def process1():\n",
    "    global c1, c2, x\n",
    "    print(\"P1 started \")\n",
    "    for j in range(N):\n",
    "        print(f\"P1({j}) started \")\n",
    "        # non-critical section\n",
    "        print(f\"P1({j}) outside CS \")\n",
    "        # entry protocol\n",
    "        c1 = True\n",
    "        while(c2):\n",
    "            c1 = False\n",
    "            c1 = True\n",
    "        # critical section\n",
    "        print(f\"P1({j}) in CS \")\n",
    "        x += 3\n",
    "        # exit protocol\n",
    "        c1 = False\n",
    "\n",
    "\n",
    "def process2():\n",
    "    global c1, c2, x\n",
    "    print(\"P2 started \")\n",
    "    for j in range(N):\n",
    "        print(f\"P2({j}) started \")\n",
    "        # non-critical section\n",
    "        print(f\"P2({j}) outside CS \")\n",
    "        # entry protocol\n",
    "        c2 = True\n",
    "        while (c1):\n",
    "            c2 = False\n",
    "            c2 = True\n",
    "        # critical section\n",
    "        print(f\"P2({j}) in CS \")\n",
    "        x += 3\n",
    "        # exit protocol\n",
    "        c2 = False\n",
    "\n",
    "\n",
    "# start the threads\n",
    "threads = []\n",
    "threads.append(Thread(target=process1))\n",
    "threads.append(Thread(target=process2))\n",
    "threads[0].start()\n",
    "threads[1].start()\n",
    "\n",
    "# wait until all processes have finished\n",
    "for thread in threads:\n",
    "    thread.join()\n",
    "\n",
    "print(x)"
   ]
  },
  {
   "cell_type": "markdown",
   "metadata": {},
   "source": [
    "### Attempt #5 - Dekker algorithm\n",
    "This is the Dekker algorithm"
   ]
  },
  {
   "cell_type": "code",
   "execution_count": 3,
   "metadata": {
    "tags": []
   },
   "outputs": [
    {
     "output_type": "stream",
     "name": "stdout",
     "text": "P1 started \nP1(0) started \nP1(0) outside CS \nP1(0) in CS \nP1(1) started \nP1(1) outside CS \nP1(1) in CS \nP2 started P1(2) started \nP1(2) outside CS \nP1(2) in CS \n\nP2(0) started \nP2(0) outside CS \nP2(0) in CS \nP2(1) started \nP2(1) outside CS \nP2(1) in CS \nP2(2) started \nP2(2) outside CS \nP2(2) in CS \n18\n"
    }
   ],
   "source": [
    "from threading import Thread\n",
    "\n",
    "\n",
    "x = 0       # shared ressource\n",
    "N = 3       # number of iterations\n",
    "\n",
    "enter1 = False      # process1 demands to enter CS\n",
    "enter2 = False      # process2 demands to enter CS\n",
    "turn = 1            # who is in CS ?\n",
    "\n",
    "\n",
    "def process1():\n",
    "    global enter1, enter2, turn, x\n",
    "    print(\"P1 started \")\n",
    "    for j in range(N):\n",
    "        print(f\"P1({j}) started \")\n",
    "        # non-critical section\n",
    "        print(f\"P1({j}) outside CS \")\n",
    "        # entry protocol\n",
    "        enter1 = True\n",
    "        while (enter2):\n",
    "            if (turn == 2):\n",
    "                enter1 = False\n",
    "                while (turn == 2):\n",
    "                    pass\n",
    "                enter1 = True\n",
    "        # critical section\n",
    "        print(f\"P1({j}) in CS \")\n",
    "        x += 3\n",
    "        # exit protocol\n",
    "        enter1 = False\n",
    "        turn = 2\n",
    "\n",
    "\n",
    "def process2():\n",
    "    global enter1, enter2, turn, x\n",
    "    print(\"P2 started \")\n",
    "    for j in range(N):\n",
    "        print(f\"P2({j}) started \")\n",
    "        # non-critical section\n",
    "        print(f\"P2({j}) outside CS \")\n",
    "        # entry protocol\n",
    "        enter2 = True\n",
    "        while (enter1):\n",
    "            if (turn == 1):\n",
    "                enter2 = False\n",
    "                while (turn == 1):\n",
    "                    pass\n",
    "                enter2 = True\n",
    "        # critical section\n",
    "        print(f\"P2({j}) in CS \")\n",
    "        x += 3\n",
    "        # exit protocol\n",
    "        enter2 = False\n",
    "        turn = 1\n",
    "\n",
    "\n",
    "# start the threads\n",
    "threads = []\n",
    "threads.append(Thread(target=process1))\n",
    "threads.append(Thread(target=process2))\n",
    "threads[0].start()\n",
    "threads[1].start()\n",
    "\n",
    "# wait until all processes have finished\n",
    "for thread in threads:\n",
    "    thread.join()\n",
    "\n",
    "print(x)"
   ]
  },
  {
   "cell_type": "code",
   "execution_count": null,
   "metadata": {},
   "outputs": [],
   "source": []
  }
 ],
 "metadata": {
  "kernelspec": {
   "display_name": "Python 3",
   "language": "python",
   "name": "python3"
  },
  "language_info": {
   "codemirror_mode": {
    "name": "ipython",
    "version": 3
   },
   "file_extension": ".py",
   "mimetype": "text/x-python",
   "name": "python",
   "nbconvert_exporter": "python",
   "pygments_lexer": "ipython3",
   "version": "3.8.5-final"
  }
 },
 "nbformat": 4,
 "nbformat_minor": 4
}